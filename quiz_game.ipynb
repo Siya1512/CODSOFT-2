{
  "nbformat": 4,
  "nbformat_minor": 0,
  "metadata": {
    "colab": {
      "provenance": []
    },
    "kernelspec": {
      "name": "python3",
      "display_name": "Python 3"
    },
    "language_info": {
      "name": "python"
    }
  },
  "cells": [
    {
      "cell_type": "code",
      "source": [
        "class Question:\n",
        "    def __init__(self, text, options, correct_option):\n",
        "        self.text = text\n",
        "        self.options = options\n",
        "        self.correct_option = correct_option\n",
        "\n",
        "    def is_correct(self, answer):\n",
        "        return answer == self.correct_option\n",
        "\n",
        "\n",
        "class Quiz:\n",
        "    def __init__(self):\n",
        "        self.questions = []\n",
        "        self.score = 0\n",
        "\n",
        "    def add_question(self, question):\n",
        "        self.questions.append(question)\n",
        "\n",
        "    def take_quiz(self):\n",
        "        print(\"Welcome to the Quiz Game!\")\n",
        "        for i, question in enumerate(self.questions, start=1):\n",
        "            print(f\"\\nQuestion {i}: {question.text}\")\n",
        "            for j, option in enumerate(question.options, start=1):\n",
        "                print(f\"{j}. {option}\")\n",
        "\n",
        "            user_answer = input(\"Your answer (enter the option number): \")\n",
        "            if user_answer.isdigit() and 1 <= int(user_answer) <= len(question.options):\n",
        "                if question.is_correct(int(user_answer)):\n",
        "                    print(\"Correct!\\n\")\n",
        "                    self.score += 1\n",
        "                else:\n",
        "                    print(f\"Wrong! The correct answer was {question.correct_option}.\\n\")\n",
        "            else:\n",
        "                print(\"Invalid input. Please enter a valid option number.\\n\")\n",
        "\n",
        "    def display_result(self):\n",
        "        print(f\"You've completed the quiz. Your score: {self.score}/{len(self.questions)}\")\n",
        "\n",
        "\n",
        "# Example Usage\n",
        "if __name__ == \"__main__\":\n",
        "    # Create questions\n",
        "    q1 = Question(\"What is the capital of India?\", [\"London\", \"Delhi\", \"Paris\", \"Rome\"], 2)\n",
        "    q2 = Question(\"Which planet is known as the Red Planet?\", [\"Mars\", \"Jupiter\", \"Venus\", \"Saturn\"], 1)\n",
        "    q3 = Question(\"What is the largest mammal?\", [\"Elephant\", \"Blue Whale\", \"Giraffe\", \"Hippopotamus\"], 2)\n",
        "\n",
        "    # Create a quiz\n",
        "    quiz = Quiz()\n",
        "    quiz.add_question(q1)\n",
        "    quiz.add_question(q2)\n",
        "    quiz.add_question(q3)\n",
        "\n",
        "    # Take the quiz\n",
        "    quiz.take_quiz()\n",
        "\n",
        "    # Display result\n",
        "    quiz.display_result()\n"
      ],
      "metadata": {
        "colab": {
          "base_uri": "https://localhost:8080/"
        },
        "id": "QWfl5DqmlVwN",
        "outputId": "ca85520c-da9a-49b2-f781-06a6c6045f74"
      },
      "execution_count": null,
      "outputs": [
        {
          "output_type": "stream",
          "name": "stdout",
          "text": [
            "Welcome to the Quiz Game!\n",
            "\n",
            "Question 1: What is the capital of India?\n",
            "1. London\n",
            "2. Delhi\n",
            "3. Paris\n",
            "4. Rome\n",
            "Your answer (enter the option number): 2\n",
            "Correct!\n",
            "\n",
            "\n",
            "Question 2: Which planet is known as the Red Planet?\n",
            "1. Mars\n",
            "2. Jupiter\n",
            "3. Venus\n",
            "4. Saturn\n"
          ]
        }
      ]
    }
  ]
}